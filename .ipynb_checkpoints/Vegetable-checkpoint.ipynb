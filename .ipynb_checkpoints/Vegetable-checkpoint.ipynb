{
 "cells": [
  {
   "cell_type": "code",
   "execution_count": null,
   "id": "3c27c9d4",
   "metadata": {},
   "outputs": [],
   "source": [
    "import os\n",
    "import PIL\n",
    "import glob\n",
    "import random\n",
    "import numpy as np\n",
    "import pandas as pd\n",
    "\n",
    "import matplotlib.pyplot as plt\n",
    "import plotly.express as px\n",
    "import plotly.graph_objs as go\n",
    "import seaborn as sns\n",
    "\n",
    "import sklearn.metrics as metrics\n",
    "from sklearn.metrics import classification_report\n",
    "from sklearn.metrics import ConfusionMatrixDisplay\n",
    "\n",
    "import tensorflow as tf\n",
    "from tensorflow import keras\n",
    "from keras.preprocessing.image import ImageDataGenerator\n",
    "from tensorflow.keras import layers\n",
    "from keras.models import load_model\n",
    "from tensorflow.random import set_seed\n",
    "\n"
   ]
  },
  {
   "cell_type": "markdown",
   "id": "31586ef5",
   "metadata": {},
   "source": [
    "## Data Preparation"
   ]
  },
  {
   "cell_type": "code",
   "execution_count": null,
   "id": "a41ecc18",
   "metadata": {},
   "outputs": [],
   "source": [
    "train_path = 'Vegetable Images/train'\n",
    "val_path = 'Vegetable Images/validation'\n",
    "test_path = 'Vegetable Images/test'"
   ]
  },
  {
   "cell_type": "code",
   "execution_count": null,
   "id": "e2c7dec2",
   "metadata": {},
   "outputs": [],
   "source": [
    "data_dicts = {\n",
    "    'train':[],\n",
    "    'test':[],\n",
    "    'val':[]\n",
    "}\n",
    "data_labels = {\n",
    "    'train':[],\n",
    "    'test':[],\n",
    "    'val':[]\n",
    "}"
   ]
  },
  {
   "cell_type": "code",
   "execution_count": null,
   "id": "b6feaf3a",
   "metadata": {},
   "outputs": [],
   "source": [
    "for phase in ['train','val','test']:\n",
    "    if phase == 'train':\n",
    "        data_dir = train_path\n",
    "    elif phase == 'val':\n",
    "        data_dir = val_path\n",
    "    else:\n",
    "        data_dir = test_path\n",
    "    class_names = sorted(x for x in os.listdir(data_dir)\n",
    "                            if os.path.isdir(os.path.join(data_dir, x)))\n",
    "    num_class = len(class_names) \n",
    "    image_files = [\n",
    "        [\n",
    "            os.path.join(data_dir, class_names[i], x)\n",
    "            for x in os.listdir(os.path.join(data_dir, class_names[i]))\n",
    "        ]\n",
    "        for i in range(num_class)\n",
    "    ]\n",
    "    num_each = [len(image_files[i]) for i in range(num_class)]\n",
    "    image_files_list = [] \n",
    "    image_class = []\n",
    "    for i in range(num_class):\n",
    "        image_files_list.extend(image_files[i])\n",
    "        image_class.extend([i] * num_each[i])\n",
    "    data_dicts[phase] = image_files_list\n",
    "    data_labels[phase] = image_class\n",
    "    num_total = len(image_class)\n",
    "    image_width, image_height = PIL.Image.open(image_files_list[0]).size\n",
    "    print(f\"{phase} information\")\n",
    "    print(f\"Image dimensions: {image_width} x {image_height}\")\n",
    "    print(f\"Label names: {class_names}\")\n",
    "    print(f\"Label counts: {num_each}\")\n",
    "    print(f\"Total image count: {num_total}\")\n",
    "    print('--'*8)"
   ]
  },
  {
   "cell_type": "code",
   "execution_count": null,
   "id": "5013d6b0",
   "metadata": {},
   "outputs": [],
   "source": [
    "df = pd.DataFrame({'path': data_dicts['train'],'label': data_labels['train']})\n",
    "sorted_counts  = df.value_counts('label')\n",
    "fig = px.pie(names=class_names, values=sorted_counts, title=\"Class Distribution in Trainset\", hole=0.3)\n",
    "fig.show()"
   ]
  },
  {
   "cell_type": "code",
   "execution_count": null,
   "id": "9caa2ee6",
   "metadata": {},
   "outputs": [],
   "source": [
    "plt.subplots(3, 3, figsize=(8, 8))\n",
    "for i, k in enumerate(np.random.randint(num_total, size=9)):\n",
    "    im = PIL.Image.open(data_dicts['train'][k])\n",
    "    arr = np.array(im)\n",
    "    plt.subplot(3, 3, i + 1)\n",
    "    plt.xlabel(class_names[image_class[k]])\n",
    "    plt.imshow(arr, vmin=0, vmax=255)\n",
    "plt.tight_layout()\n",
    "plt.show()"
   ]
  },
  {
   "cell_type": "markdown",
   "id": "68743d18",
   "metadata": {},
   "source": [
    "## Data Loading"
   ]
  },
  {
   "cell_type": "code",
   "execution_count": null,
   "id": "7e89800d",
   "metadata": {},
   "outputs": [],
   "source": [
    "batch_size = 32\n",
    "data_generator = {\n",
    "    'train':ImageDataGenerator(rescale=1/255.,width_shift_range=0.1,\n",
    "                               height_shift_range=0.1,horizontal_flip=True,rotation_range=10),\n",
    "    'val':ImageDataGenerator(rescale=1/255.,width_shift_range=0.1,\n",
    "                               height_shift_range=0.1),\n",
    "    'test':ImageDataGenerator(rescale=1/255.),  \n",
    "}"
   ]
  },
  {
   "cell_type": "code",
   "execution_count": null,
   "id": "ea705bbb",
   "metadata": {},
   "outputs": [],
   "source": [
    "data_sets = {\n",
    "    'train':data_generator['train'].flow_from_directory(train_path,shuffle=True,class_mode='binary' ,batch_size=batch_size),\n",
    "    'val':data_generator['val'].flow_from_directory(val_path,shuffle=False,class_mode='binary',batch_size=batch_size),\n",
    "    'test':data_generator['test'].flow_from_directory(test_path,shuffle=False,class_mode='binary',batch_size=batch_size)\n",
    "}"
   ]
  },
  {
   "cell_type": "code",
   "execution_count": null,
   "id": "bbc45c98",
   "metadata": {},
   "outputs": [],
   "source": [
    "for i,(images,labels) in enumerate(data_sets['train']):\n",
    "    print('labels of first batch in trainset:',labels)\n",
    "    print(labels.shape)\n",
    "    print(images.shape)\n",
    "    break"
   ]
  },
  {
   "cell_type": "markdown",
   "id": "5977871e",
   "metadata": {},
   "source": [
    "## Data Visualization \n"
   ]
  },
  {
   "cell_type": "code",
   "execution_count": null,
   "id": "6e52b824",
   "metadata": {},
   "outputs": [],
   "source": [
    "def show_images(GRID=[3,3], model=None, size=(8,8), data=data_sets['train']):\n",
    "    n_rows = GRID[0]\n",
    "    n_cols = GRID[1]\n",
    "    n_images = n_cols * n_rows\n",
    "    \n",
    "    i = 1\n",
    "    plt.figure(figsize=size)\n",
    "    for images, labels in data:\n",
    "        id = np.random.randint(32)\n",
    "        image, label = images[id], class_names[int(labels[id])]\n",
    "        \n",
    "        plt.subplot(n_rows, n_cols, i)\n",
    "        plt.imshow(image)\n",
    "        \n",
    "        if model is None:\n",
    "            title = f\"Class : {label}\"\n",
    "        else:\n",
    "            pred = class_names[int(np.argmax(model.predict(image[np.newaxis, ...])))]\n",
    "            title = f\"Org : {label}, Pred : {pred}\"\n",
    "        \n",
    "        plt.title(title)\n",
    "        plt.axis('off')\n",
    "        \n",
    "        i+=1\n",
    "        if i>=(n_images+1):\n",
    "            break\n",
    "            \n",
    "    plt.tight_layout()\n",
    "    plt.show()"
   ]
  },
  {
   "cell_type": "code",
   "execution_count": null,
   "id": "990436c7",
   "metadata": {},
   "outputs": [],
   "source": [
    "show_images()"
   ]
  },
  {
   "cell_type": "markdown",
   "id": "df29af40",
   "metadata": {},
   "source": [
    "## Model"
   ]
  },
  {
   "cell_type": "code",
   "execution_count": null,
   "id": "8e044c67",
   "metadata": {},
   "outputs": [],
   "source": [
    "pretrained = tf.keras.applications.mobilenet_v2.MobileNetV2(\n",
    "    input_shape=[256,256,3], include_top=False, \n",
    "    classifier_activation='softmax',\n",
    ")\n",
    "pretrained.trainable = False\n",
    "model = tf.keras.models.Sequential([\n",
    "    pretrained,\n",
    "    layers.GlobalAveragePooling2D(),\n",
    "    layers.Dense(512, activation='relu'),\n",
    "    layers.Dense(64, activation='relu'),\n",
    "    layers.Dense(15, activation='softmax')\n",
    "])"
   ]
  },
  {
   "cell_type": "markdown",
   "id": "833ca3e5",
   "metadata": {},
   "source": [
    "## Model Training "
   ]
  },
  {
   "cell_type": "code",
   "execution_count": null,
   "id": "bce349f2",
   "metadata": {},
   "outputs": [],
   "source": [
    "checkpoint_callback = tf.keras.callbacks.ModelCheckpoint(\"final_model.h5\", save_best_only=True)\n",
    "early_stopping_callback = tf.keras.callbacks.EarlyStopping( monitor=\"val_loss\",patience=5, restore_best_weights=True)"
   ]
  },
  {
   "cell_type": "code",
   "execution_count": null,
   "id": "ed2dd3d1",
   "metadata": {},
   "outputs": [],
   "source": [
    "model.compile(optimizer='adam',\n",
    "              loss='sparse_categorical_crossentropy',\n",
    "              metrics=['accuracy'])\n",
    "epochs = 10\n",
    "history = model.fit(data_sets['train'], validation_data=data_sets['val'], \n",
    "                             epochs=epochs,callbacks=[checkpoint_callback,early_stopping_callback])"
   ]
  },
  {
   "cell_type": "code",
   "execution_count": null,
   "id": "b44afd58",
   "metadata": {},
   "outputs": [],
   "source": [
    "history_df = pd.DataFrame(history.history)"
   ]
  },
  {
   "cell_type": "code",
   "execution_count": null,
   "id": "84deca18",
   "metadata": {},
   "outputs": [],
   "source": [
    "history_df"
   ]
  },
  {
   "cell_type": "code",
   "execution_count": null,
   "id": "aeffc23a",
   "metadata": {},
   "outputs": [],
   "source": [
    "line = px.line(data_frame= history_df ,y =[\"accuracy\",\"val_accuracy\"] , markers = True)\n",
    "line.update_xaxes(title=\"epochs\",\n",
    "              rangeslider_visible = False)\n",
    "line.update_yaxes(title = \"Accuracy\")\n",
    "line.update_layout(showlegend = True,\n",
    "    title = {\n",
    "        'text': 'train acc Vs. val acc',\n",
    "        'y':0.94,\n",
    "        'x':0.5,\n",
    "        'xanchor': 'center',\n",
    "        'yanchor': 'top'})\n",
    "line.show()"
   ]
  },
  {
   "cell_type": "code",
   "execution_count": null,
   "id": "01c9b024",
   "metadata": {},
   "outputs": [],
   "source": [
    "line = px.line(data_frame= history_df ,y =[\"loss\" , \"val_loss\"] , markers = True)\n",
    "line.update_xaxes(title=\"epochs\",\n",
    "              rangeslider_visible = False)\n",
    "line.update_yaxes(title = \"Loss\")\n",
    "line.update_layout(showlegend = True,\n",
    "    title = {\n",
    "        'text': 'train loss Vs. val loss',\n",
    "        'y':0.94,\n",
    "        'x':0.5,\n",
    "        'xanchor': 'center',\n",
    "        'yanchor': 'top'})\n",
    "line.show()"
   ]
  },
  {
   "cell_type": "markdown",
   "id": "1727df08",
   "metadata": {},
   "source": [
    "## Model Saving "
   ]
  },
  {
   "cell_type": "code",
   "execution_count": null,
   "id": "8326c3cf",
   "metadata": {},
   "outputs": [],
   "source": [
    "model.save('vgg19.h5')"
   ]
  },
  {
   "cell_type": "markdown",
   "id": "3b859f34",
   "metadata": {},
   "source": [
    "## Model Evaluation "
   ]
  },
  {
   "cell_type": "code",
   "execution_count": null,
   "id": "ebb7aae5",
   "metadata": {},
   "outputs": [],
   "source": [
    "model_path = './final_model.h5'\n",
    "model = load_model(model_path)\n",
    "model.summary()"
   ]
  },
  {
   "cell_type": "markdown",
   "id": "d1d855bc",
   "metadata": {},
   "source": [
    "## Indicators Report \n"
   ]
  },
  {
   "cell_type": "code",
   "execution_count": null,
   "id": "53422ff9",
   "metadata": {},
   "outputs": [],
   "source": [
    "print(classification_report(labels_classes,pred_classes))"
   ]
  },
  {
   "cell_type": "markdown",
   "id": "134ae691",
   "metadata": {},
   "source": [
    "## Confusion Matrix"
   ]
  },
  {
   "cell_type": "code",
   "execution_count": null,
   "id": "e86aaf5f",
   "metadata": {},
   "outputs": [],
   "source": [
    "classes = list(data_sets['test'].class_indices.keys())\n",
    "real_classes = [classes[x] for x in data_sets['test'].labels]\n",
    "\n",
    "pred = tf.argmax(model.predict(data_sets['test']),axis=1)\n",
    "pred_classes = [classes[x] for x in pred]"
   ]
  },
  {
   "cell_type": "markdown",
   "id": "9082ba31",
   "metadata": {},
   "source": [
    "## Using sns "
   ]
  },
  {
   "cell_type": "code",
   "execution_count": null,
   "id": "8951f6ea",
   "metadata": {},
   "outputs": [],
   "source": [
    "cf_matrix = metrics.confusion_matrix(real_classes,pred_classes)\n",
    "sns.set_theme(rc={'figure.figsize':(11,10)})\n",
    "ax = sns.heatmap(cf_matrix,annot=True,cmap='Reds',fmt=\"g\",xticklabels=classes,yticklabels=classes,cbar=False)\n",
    "ax.set_ylabel('True Labels')\n",
    "ax.set_xlabel('Predicted Labels');"
   ]
  },
  {
   "cell_type": "markdown",
   "id": "f3271de3",
   "metadata": {},
   "source": [
    "## Using plotly "
   ]
  },
  {
   "cell_type": "code",
   "execution_count": null,
   "id": "e475d224",
   "metadata": {},
   "outputs": [],
   "source": [
    "def plot_confusion_matrix(y_true, y_pred, class_names):\n",
    "    confusion_matrix = metrics.confusion_matrix(y_true, y_pred)\n",
    "    confusion_matrix = confusion_matrix.astype(int)\n",
    "\n",
    "    layout = {\n",
    "        \"title\": \"Confusion Matrix\", \n",
    "        \"xaxis\": {\"title\": \"Predicted value\"}, \n",
    "        \"yaxis\": {\"title\": \"Real value\"}\n",
    "    }\n",
    "\n",
    "    fig = go.Figure(data=go.Heatmap(z=confusion_matrix,\n",
    "                                    x=class_names,\n",
    "                                    y=class_names,\n",
    "                                    hoverongaps=False,\n",
    "                                   ),\n",
    "                    layout=layout)\n",
    "    fig.show()"
   ]
  },
  {
   "cell_type": "code",
   "execution_count": null,
   "id": "09b89601",
   "metadata": {},
   "outputs": [],
   "source": [
    "plot_confusion_matrix(real_classes,pred_classes,classes)"
   ]
  },
  {
   "cell_type": "code",
   "execution_count": null,
   "id": "9645a1a3",
   "metadata": {},
   "outputs": [],
   "source": []
  }
 ],
 "metadata": {
  "kernelspec": {
   "display_name": "Python 3 (ipykernel)",
   "language": "python",
   "name": "python3"
  },
  "language_info": {
   "codemirror_mode": {
    "name": "ipython",
    "version": 3
   },
   "file_extension": ".py",
   "mimetype": "text/x-python",
   "name": "python",
   "nbconvert_exporter": "python",
   "pygments_lexer": "ipython3",
   "version": "3.9.13"
  }
 },
 "nbformat": 4,
 "nbformat_minor": 5
}
